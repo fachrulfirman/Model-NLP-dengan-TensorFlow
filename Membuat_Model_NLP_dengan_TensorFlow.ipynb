{
  "nbformat": 4,
  "nbformat_minor": 0,
  "metadata": {
    "colab": {
      "name": "Dicoding BPML Proyek 1 - Membuat Model NLP dengan TensorFlow.ipynb",
      "provenance": [],
      "collapsed_sections": []
    },
    "kernelspec": {
      "display_name": "Python 3",
      "name": "python3"
    },
    "language_info": {
      "name": "python"
    }
  },
  "cells": [
    {
      "cell_type": "markdown",
      "metadata": {
        "id": "JSLaJJiMY3Jw"
      },
      "source": [
        "> Nama: Fachrul Firmansyah \\\n",
        "> Username: fachrulfirman \\\n",
        "> Email: fachrulfirman@yahoo.com \\\n",
        "> Dataset: Emotion Detection from Text \\\n",
        "> Link Dataset: https://www.kaggle.com/pashupatigupta/emotion-detection-from-text"
      ]
    },
    {
      "cell_type": "code",
      "metadata": {
        "colab": {
          "base_uri": "https://localhost:8080/"
        },
        "id": "V3q5VT-BXcuY",
        "outputId": "33c75060-78e9-46c4-d5f7-e632261a1837"
      },
      "source": [
        "# Import library yang diperlukan\n",
        "import pandas as pd\n",
        "\n",
        "import nltk, re, string\n",
        "from nltk.corpus import stopwords\n",
        "from nltk.corpus import wordnet\n",
        "from nltk.stem import WordNetLemmatizer\n",
        "\n",
        "nltk.download('averaged_perceptron_tagger')\n",
        "nltk.download('stopwords')\n",
        "nltk.download('wordnet')\n",
        "\n",
        "from sklearn.model_selection import train_test_split\n",
        "\n",
        "import tensorflow as tf\n",
        "from tensorflow.keras.preprocessing.text import Tokenizer\n",
        "from tensorflow.keras.preprocessing.sequence import pad_sequences\n",
        "\n",
        "import matplotlib.pyplot as plt"
      ],
      "execution_count": 61,
      "outputs": [
        {
          "output_type": "stream",
          "text": [
            "[nltk_data] Downloading package averaged_perceptron_tagger to\n",
            "[nltk_data]     /root/nltk_data...\n",
            "[nltk_data]   Package averaged_perceptron_tagger is already up-to-\n",
            "[nltk_data]       date!\n",
            "[nltk_data] Downloading package stopwords to /root/nltk_data...\n",
            "[nltk_data]   Package stopwords is already up-to-date!\n",
            "[nltk_data] Downloading package wordnet to /root/nltk_data...\n",
            "[nltk_data]   Package wordnet is already up-to-date!\n"
          ],
          "name": "stdout"
        }
      ]
    },
    {
      "cell_type": "code",
      "metadata": {
        "colab": {
          "base_uri": "https://localhost:8080/",
          "height": 419
        },
        "id": "j81q0zEIX8BI",
        "outputId": "da1f5cf9-cfca-42f3-c24c-d38ddb2c6286"
      },
      "source": [
        "# Membaca dataset yang telah dipilih\n",
        "df = pd.read_csv('/content/tweet_emotions.csv')\n",
        "df"
      ],
      "execution_count": 62,
      "outputs": [
        {
          "output_type": "execute_result",
          "data": {
            "text/html": [
              "<div>\n",
              "<style scoped>\n",
              "    .dataframe tbody tr th:only-of-type {\n",
              "        vertical-align: middle;\n",
              "    }\n",
              "\n",
              "    .dataframe tbody tr th {\n",
              "        vertical-align: top;\n",
              "    }\n",
              "\n",
              "    .dataframe thead th {\n",
              "        text-align: right;\n",
              "    }\n",
              "</style>\n",
              "<table border=\"1\" class=\"dataframe\">\n",
              "  <thead>\n",
              "    <tr style=\"text-align: right;\">\n",
              "      <th></th>\n",
              "      <th>tweet_id</th>\n",
              "      <th>sentiment</th>\n",
              "      <th>content</th>\n",
              "    </tr>\n",
              "  </thead>\n",
              "  <tbody>\n",
              "    <tr>\n",
              "      <th>0</th>\n",
              "      <td>1956967341</td>\n",
              "      <td>empty</td>\n",
              "      <td>@tiffanylue i know  i was listenin to bad habi...</td>\n",
              "    </tr>\n",
              "    <tr>\n",
              "      <th>1</th>\n",
              "      <td>1956967666</td>\n",
              "      <td>sadness</td>\n",
              "      <td>Layin n bed with a headache  ughhhh...waitin o...</td>\n",
              "    </tr>\n",
              "    <tr>\n",
              "      <th>2</th>\n",
              "      <td>1956967696</td>\n",
              "      <td>sadness</td>\n",
              "      <td>Funeral ceremony...gloomy friday...</td>\n",
              "    </tr>\n",
              "    <tr>\n",
              "      <th>3</th>\n",
              "      <td>1956967789</td>\n",
              "      <td>enthusiasm</td>\n",
              "      <td>wants to hang out with friends SOON!</td>\n",
              "    </tr>\n",
              "    <tr>\n",
              "      <th>4</th>\n",
              "      <td>1956968416</td>\n",
              "      <td>neutral</td>\n",
              "      <td>@dannycastillo We want to trade with someone w...</td>\n",
              "    </tr>\n",
              "    <tr>\n",
              "      <th>...</th>\n",
              "      <td>...</td>\n",
              "      <td>...</td>\n",
              "      <td>...</td>\n",
              "    </tr>\n",
              "    <tr>\n",
              "      <th>39995</th>\n",
              "      <td>1753918954</td>\n",
              "      <td>neutral</td>\n",
              "      <td>@JohnLloydTaylor</td>\n",
              "    </tr>\n",
              "    <tr>\n",
              "      <th>39996</th>\n",
              "      <td>1753919001</td>\n",
              "      <td>love</td>\n",
              "      <td>Happy Mothers Day  All my love</td>\n",
              "    </tr>\n",
              "    <tr>\n",
              "      <th>39997</th>\n",
              "      <td>1753919005</td>\n",
              "      <td>love</td>\n",
              "      <td>Happy Mother's Day to all the mommies out ther...</td>\n",
              "    </tr>\n",
              "    <tr>\n",
              "      <th>39998</th>\n",
              "      <td>1753919043</td>\n",
              "      <td>happiness</td>\n",
              "      <td>@niariley WASSUP BEAUTIFUL!!! FOLLOW ME!!  PEE...</td>\n",
              "    </tr>\n",
              "    <tr>\n",
              "      <th>39999</th>\n",
              "      <td>1753919049</td>\n",
              "      <td>love</td>\n",
              "      <td>@mopedronin bullet train from tokyo    the gf ...</td>\n",
              "    </tr>\n",
              "  </tbody>\n",
              "</table>\n",
              "<p>40000 rows × 3 columns</p>\n",
              "</div>"
            ],
            "text/plain": [
              "         tweet_id  ...                                            content\n",
              "0      1956967341  ...  @tiffanylue i know  i was listenin to bad habi...\n",
              "1      1956967666  ...  Layin n bed with a headache  ughhhh...waitin o...\n",
              "2      1956967696  ...                Funeral ceremony...gloomy friday...\n",
              "3      1956967789  ...               wants to hang out with friends SOON!\n",
              "4      1956968416  ...  @dannycastillo We want to trade with someone w...\n",
              "...           ...  ...                                                ...\n",
              "39995  1753918954  ...                                   @JohnLloydTaylor\n",
              "39996  1753919001  ...                     Happy Mothers Day  All my love\n",
              "39997  1753919005  ...  Happy Mother's Day to all the mommies out ther...\n",
              "39998  1753919043  ...  @niariley WASSUP BEAUTIFUL!!! FOLLOW ME!!  PEE...\n",
              "39999  1753919049  ...  @mopedronin bullet train from tokyo    the gf ...\n",
              "\n",
              "[40000 rows x 3 columns]"
            ]
          },
          "metadata": {},
          "execution_count": 62
        }
      ]
    },
    {
      "cell_type": "code",
      "metadata": {
        "colab": {
          "base_uri": "https://localhost:8080/"
        },
        "id": "hkfrgVWfrgcN",
        "outputId": "b327a7cc-0fb8-475b-ea81-f6d8d5773e79"
      },
      "source": [
        "# Melihat informasi dataset\n",
        "df.info()"
      ],
      "execution_count": 63,
      "outputs": [
        {
          "output_type": "stream",
          "text": [
            "<class 'pandas.core.frame.DataFrame'>\n",
            "RangeIndex: 40000 entries, 0 to 39999\n",
            "Data columns (total 3 columns):\n",
            " #   Column     Non-Null Count  Dtype \n",
            "---  ------     --------------  ----- \n",
            " 0   tweet_id   40000 non-null  int64 \n",
            " 1   sentiment  40000 non-null  object\n",
            " 2   content    40000 non-null  object\n",
            "dtypes: int64(1), object(2)\n",
            "memory usage: 937.6+ KB\n"
          ],
          "name": "stdout"
        }
      ]
    },
    {
      "cell_type": "code",
      "metadata": {
        "colab": {
          "base_uri": "https://localhost:8080/"
        },
        "id": "W2r5qNr9ryqn",
        "outputId": "8bddf1bb-6783-435d-86cd-9d5344467170"
      },
      "source": [
        "# Menghitung jumlah data berdasarkan sentiment-nya \n",
        "df.sentiment.value_counts()"
      ],
      "execution_count": 64,
      "outputs": [
        {
          "output_type": "execute_result",
          "data": {
            "text/plain": [
              "neutral       8638\n",
              "worry         8459\n",
              "happiness     5209\n",
              "sadness       5165\n",
              "love          3842\n",
              "surprise      2187\n",
              "fun           1776\n",
              "relief        1526\n",
              "hate          1323\n",
              "empty          827\n",
              "enthusiasm     759\n",
              "boredom        179\n",
              "anger          110\n",
              "Name: sentiment, dtype: int64"
            ]
          },
          "metadata": {},
          "execution_count": 64
        }
      ]
    },
    {
      "cell_type": "code",
      "metadata": {
        "colab": {
          "base_uri": "https://localhost:8080/",
          "height": 419
        },
        "id": "SJwauCi0r7xo",
        "outputId": "843df40f-a5d5-4292-dfc1-208dfabba0ef"
      },
      "source": [
        "# Menghapus kolom yang tidak diperlukan\n",
        "df_text = df.drop(columns=['tweet_id'])\n",
        "df_text"
      ],
      "execution_count": 65,
      "outputs": [
        {
          "output_type": "execute_result",
          "data": {
            "text/html": [
              "<div>\n",
              "<style scoped>\n",
              "    .dataframe tbody tr th:only-of-type {\n",
              "        vertical-align: middle;\n",
              "    }\n",
              "\n",
              "    .dataframe tbody tr th {\n",
              "        vertical-align: top;\n",
              "    }\n",
              "\n",
              "    .dataframe thead th {\n",
              "        text-align: right;\n",
              "    }\n",
              "</style>\n",
              "<table border=\"1\" class=\"dataframe\">\n",
              "  <thead>\n",
              "    <tr style=\"text-align: right;\">\n",
              "      <th></th>\n",
              "      <th>sentiment</th>\n",
              "      <th>content</th>\n",
              "    </tr>\n",
              "  </thead>\n",
              "  <tbody>\n",
              "    <tr>\n",
              "      <th>0</th>\n",
              "      <td>empty</td>\n",
              "      <td>@tiffanylue i know  i was listenin to bad habi...</td>\n",
              "    </tr>\n",
              "    <tr>\n",
              "      <th>1</th>\n",
              "      <td>sadness</td>\n",
              "      <td>Layin n bed with a headache  ughhhh...waitin o...</td>\n",
              "    </tr>\n",
              "    <tr>\n",
              "      <th>2</th>\n",
              "      <td>sadness</td>\n",
              "      <td>Funeral ceremony...gloomy friday...</td>\n",
              "    </tr>\n",
              "    <tr>\n",
              "      <th>3</th>\n",
              "      <td>enthusiasm</td>\n",
              "      <td>wants to hang out with friends SOON!</td>\n",
              "    </tr>\n",
              "    <tr>\n",
              "      <th>4</th>\n",
              "      <td>neutral</td>\n",
              "      <td>@dannycastillo We want to trade with someone w...</td>\n",
              "    </tr>\n",
              "    <tr>\n",
              "      <th>...</th>\n",
              "      <td>...</td>\n",
              "      <td>...</td>\n",
              "    </tr>\n",
              "    <tr>\n",
              "      <th>39995</th>\n",
              "      <td>neutral</td>\n",
              "      <td>@JohnLloydTaylor</td>\n",
              "    </tr>\n",
              "    <tr>\n",
              "      <th>39996</th>\n",
              "      <td>love</td>\n",
              "      <td>Happy Mothers Day  All my love</td>\n",
              "    </tr>\n",
              "    <tr>\n",
              "      <th>39997</th>\n",
              "      <td>love</td>\n",
              "      <td>Happy Mother's Day to all the mommies out ther...</td>\n",
              "    </tr>\n",
              "    <tr>\n",
              "      <th>39998</th>\n",
              "      <td>happiness</td>\n",
              "      <td>@niariley WASSUP BEAUTIFUL!!! FOLLOW ME!!  PEE...</td>\n",
              "    </tr>\n",
              "    <tr>\n",
              "      <th>39999</th>\n",
              "      <td>love</td>\n",
              "      <td>@mopedronin bullet train from tokyo    the gf ...</td>\n",
              "    </tr>\n",
              "  </tbody>\n",
              "</table>\n",
              "<p>40000 rows × 2 columns</p>\n",
              "</div>"
            ],
            "text/plain": [
              "        sentiment                                            content\n",
              "0           empty  @tiffanylue i know  i was listenin to bad habi...\n",
              "1         sadness  Layin n bed with a headache  ughhhh...waitin o...\n",
              "2         sadness                Funeral ceremony...gloomy friday...\n",
              "3      enthusiasm               wants to hang out with friends SOON!\n",
              "4         neutral  @dannycastillo We want to trade with someone w...\n",
              "...           ...                                                ...\n",
              "39995     neutral                                   @JohnLloydTaylor\n",
              "39996        love                     Happy Mothers Day  All my love\n",
              "39997        love  Happy Mother's Day to all the mommies out ther...\n",
              "39998   happiness  @niariley WASSUP BEAUTIFUL!!! FOLLOW ME!!  PEE...\n",
              "39999        love  @mopedronin bullet train from tokyo    the gf ...\n",
              "\n",
              "[40000 rows x 2 columns]"
            ]
          },
          "metadata": {},
          "execution_count": 65
        }
      ]
    },
    {
      "cell_type": "code",
      "metadata": {
        "id": "QerYof4RsgTw"
      },
      "source": [
        "# Mengubah huruf menjadi huruf kecil semua\n",
        "df_text.content = df_text.content.apply(lambda x: x.lower())"
      ],
      "execution_count": 66,
      "outputs": []
    },
    {
      "cell_type": "code",
      "metadata": {
        "id": "lKKPaHf9f6b3"
      },
      "source": [
        "# Menghapus angka\n",
        "def removeNumb(text):\n",
        "  return re.sub('[0-9]+',' ',text)\n",
        "\n",
        "df_text.content = df_text.content.apply(removeNumb)"
      ],
      "execution_count": 67,
      "outputs": []
    },
    {
      "cell_type": "code",
      "metadata": {
        "id": "hk2SiIabve-2"
      },
      "source": [
        "# Menghapus tanda baca\n",
        "def removePunc(text):\n",
        "  return(text.translate(str.maketrans(' ',' ',string.punctuation)))\n",
        "\n",
        "df_text.content = df_text.content.apply(removePunc)"
      ],
      "execution_count": 68,
      "outputs": []
    },
    {
      "cell_type": "code",
      "metadata": {
        "id": "hXSB4l8VgTy_"
      },
      "source": [
        "# Menghapus kata umum yang tidak memiliki makna\n",
        "st_words = stopwords.words()\n",
        "def stopword(text):\n",
        "  return(' '.join([w for w in text.split() if w not in st_words]))\n",
        "  \n",
        "df_text.content = df_text.content.apply(lambda x: stopword(x)) "
      ],
      "execution_count": 69,
      "outputs": []
    },
    {
      "cell_type": "code",
      "metadata": {
        "id": "8ohr0_bqwRIv"
      },
      "source": [
        "# Melakukan reduksi kata\n",
        "lemmatizer = WordNetLemmatizer()\n",
        "def lem(text):\n",
        "  pos_dict = {'N': wordnet.NOUN,'V': wordnet.VERB,'J': wordnet.ADJ,'R': wordnet.ADV}\n",
        "  return(' '.join([lemmatizer.lemmatize(w,pos_dict.get(t,wordnet.NOUN)) for w,t in nltk.pos_tag(text.split())]))\n",
        "\n",
        "df_text.content = df_text.content.apply(lambda x: lem(x))"
      ],
      "execution_count": 70,
      "outputs": []
    },
    {
      "cell_type": "code",
      "metadata": {
        "colab": {
          "base_uri": "https://localhost:8080/",
          "height": 419
        },
        "id": "Cj1wsK0o78Fo",
        "outputId": "7499902a-f70f-4bbd-c06c-4abe631c3e86"
      },
      "source": [
        "df_text"
      ],
      "execution_count": 71,
      "outputs": [
        {
          "output_type": "execute_result",
          "data": {
            "text/html": [
              "<div>\n",
              "<style scoped>\n",
              "    .dataframe tbody tr th:only-of-type {\n",
              "        vertical-align: middle;\n",
              "    }\n",
              "\n",
              "    .dataframe tbody tr th {\n",
              "        vertical-align: top;\n",
              "    }\n",
              "\n",
              "    .dataframe thead th {\n",
              "        text-align: right;\n",
              "    }\n",
              "</style>\n",
              "<table border=\"1\" class=\"dataframe\">\n",
              "  <thead>\n",
              "    <tr style=\"text-align: right;\">\n",
              "      <th></th>\n",
              "      <th>sentiment</th>\n",
              "      <th>content</th>\n",
              "    </tr>\n",
              "  </thead>\n",
              "  <tbody>\n",
              "    <tr>\n",
              "      <th>0</th>\n",
              "      <td>empty</td>\n",
              "      <td>tiffanylue know listenin bad habit earlier sta...</td>\n",
              "    </tr>\n",
              "    <tr>\n",
              "      <th>1</th>\n",
              "      <td>sadness</td>\n",
              "      <td>layin bed headache ughhhhwaitin call</td>\n",
              "    </tr>\n",
              "    <tr>\n",
              "      <th>2</th>\n",
              "      <td>sadness</td>\n",
              "      <td>funeral ceremonygloomy friday</td>\n",
              "    </tr>\n",
              "    <tr>\n",
              "      <th>3</th>\n",
              "      <td>enthusiasm</td>\n",
              "      <td>want hang friend soon</td>\n",
              "    </tr>\n",
              "    <tr>\n",
              "      <th>4</th>\n",
              "      <td>neutral</td>\n",
              "      <td>dannycastillo trade someone houston ticket</td>\n",
              "    </tr>\n",
              "    <tr>\n",
              "      <th>...</th>\n",
              "      <td>...</td>\n",
              "      <td>...</td>\n",
              "    </tr>\n",
              "    <tr>\n",
              "      <th>39995</th>\n",
              "      <td>neutral</td>\n",
              "      <td>johnlloydtaylor</td>\n",
              "    </tr>\n",
              "    <tr>\n",
              "      <th>39996</th>\n",
              "      <td>love</td>\n",
              "      <td>happy mother day love</td>\n",
              "    </tr>\n",
              "    <tr>\n",
              "      <th>39997</th>\n",
              "      <td>love</td>\n",
              "      <td>happy mother day mommy woman long youre momma ...</td>\n",
              "    </tr>\n",
              "    <tr>\n",
              "      <th>39998</th>\n",
              "      <td>happiness</td>\n",
              "      <td>niariley wassup beautiful follow peep new hit ...</td>\n",
              "    </tr>\n",
              "    <tr>\n",
              "      <th>39999</th>\n",
              "      <td>love</td>\n",
              "      <td>mopedronin bullet train tokyo gf visiting japa...</td>\n",
              "    </tr>\n",
              "  </tbody>\n",
              "</table>\n",
              "<p>40000 rows × 2 columns</p>\n",
              "</div>"
            ],
            "text/plain": [
              "        sentiment                                            content\n",
              "0           empty  tiffanylue know listenin bad habit earlier sta...\n",
              "1         sadness               layin bed headache ughhhhwaitin call\n",
              "2         sadness                      funeral ceremonygloomy friday\n",
              "3      enthusiasm                              want hang friend soon\n",
              "4         neutral         dannycastillo trade someone houston ticket\n",
              "...           ...                                                ...\n",
              "39995     neutral                                    johnlloydtaylor\n",
              "39996        love                              happy mother day love\n",
              "39997        love  happy mother day mommy woman long youre momma ...\n",
              "39998   happiness  niariley wassup beautiful follow peep new hit ...\n",
              "39999        love  mopedronin bullet train tokyo gf visiting japa...\n",
              "\n",
              "[40000 rows x 2 columns]"
            ]
          },
          "metadata": {},
          "execution_count": 71
        }
      ]
    },
    {
      "cell_type": "code",
      "metadata": {
        "colab": {
          "base_uri": "https://localhost:8080/",
          "height": 745
        },
        "id": "n-JSquFc_CR2",
        "outputId": "c9ed97cb-4749-480c-a041-b571a35e0b3d"
      },
      "source": [
        "sentiment = pd.get_dummies(df_text.sentiment)\n",
        "df_text_sentiment = pd.concat([df_text,sentiment],axis=1).drop(columns='sentiment')\n",
        "df_text_sentiment"
      ],
      "execution_count": 72,
      "outputs": [
        {
          "output_type": "execute_result",
          "data": {
            "text/html": [
              "<div>\n",
              "<style scoped>\n",
              "    .dataframe tbody tr th:only-of-type {\n",
              "        vertical-align: middle;\n",
              "    }\n",
              "\n",
              "    .dataframe tbody tr th {\n",
              "        vertical-align: top;\n",
              "    }\n",
              "\n",
              "    .dataframe thead th {\n",
              "        text-align: right;\n",
              "    }\n",
              "</style>\n",
              "<table border=\"1\" class=\"dataframe\">\n",
              "  <thead>\n",
              "    <tr style=\"text-align: right;\">\n",
              "      <th></th>\n",
              "      <th>content</th>\n",
              "      <th>anger</th>\n",
              "      <th>boredom</th>\n",
              "      <th>empty</th>\n",
              "      <th>enthusiasm</th>\n",
              "      <th>fun</th>\n",
              "      <th>happiness</th>\n",
              "      <th>hate</th>\n",
              "      <th>love</th>\n",
              "      <th>neutral</th>\n",
              "      <th>relief</th>\n",
              "      <th>sadness</th>\n",
              "      <th>surprise</th>\n",
              "      <th>worry</th>\n",
              "    </tr>\n",
              "  </thead>\n",
              "  <tbody>\n",
              "    <tr>\n",
              "      <th>0</th>\n",
              "      <td>tiffanylue know listenin bad habit earlier sta...</td>\n",
              "      <td>0</td>\n",
              "      <td>0</td>\n",
              "      <td>1</td>\n",
              "      <td>0</td>\n",
              "      <td>0</td>\n",
              "      <td>0</td>\n",
              "      <td>0</td>\n",
              "      <td>0</td>\n",
              "      <td>0</td>\n",
              "      <td>0</td>\n",
              "      <td>0</td>\n",
              "      <td>0</td>\n",
              "      <td>0</td>\n",
              "    </tr>\n",
              "    <tr>\n",
              "      <th>1</th>\n",
              "      <td>layin bed headache ughhhhwaitin call</td>\n",
              "      <td>0</td>\n",
              "      <td>0</td>\n",
              "      <td>0</td>\n",
              "      <td>0</td>\n",
              "      <td>0</td>\n",
              "      <td>0</td>\n",
              "      <td>0</td>\n",
              "      <td>0</td>\n",
              "      <td>0</td>\n",
              "      <td>0</td>\n",
              "      <td>1</td>\n",
              "      <td>0</td>\n",
              "      <td>0</td>\n",
              "    </tr>\n",
              "    <tr>\n",
              "      <th>2</th>\n",
              "      <td>funeral ceremonygloomy friday</td>\n",
              "      <td>0</td>\n",
              "      <td>0</td>\n",
              "      <td>0</td>\n",
              "      <td>0</td>\n",
              "      <td>0</td>\n",
              "      <td>0</td>\n",
              "      <td>0</td>\n",
              "      <td>0</td>\n",
              "      <td>0</td>\n",
              "      <td>0</td>\n",
              "      <td>1</td>\n",
              "      <td>0</td>\n",
              "      <td>0</td>\n",
              "    </tr>\n",
              "    <tr>\n",
              "      <th>3</th>\n",
              "      <td>want hang friend soon</td>\n",
              "      <td>0</td>\n",
              "      <td>0</td>\n",
              "      <td>0</td>\n",
              "      <td>1</td>\n",
              "      <td>0</td>\n",
              "      <td>0</td>\n",
              "      <td>0</td>\n",
              "      <td>0</td>\n",
              "      <td>0</td>\n",
              "      <td>0</td>\n",
              "      <td>0</td>\n",
              "      <td>0</td>\n",
              "      <td>0</td>\n",
              "    </tr>\n",
              "    <tr>\n",
              "      <th>4</th>\n",
              "      <td>dannycastillo trade someone houston ticket</td>\n",
              "      <td>0</td>\n",
              "      <td>0</td>\n",
              "      <td>0</td>\n",
              "      <td>0</td>\n",
              "      <td>0</td>\n",
              "      <td>0</td>\n",
              "      <td>0</td>\n",
              "      <td>0</td>\n",
              "      <td>1</td>\n",
              "      <td>0</td>\n",
              "      <td>0</td>\n",
              "      <td>0</td>\n",
              "      <td>0</td>\n",
              "    </tr>\n",
              "    <tr>\n",
              "      <th>...</th>\n",
              "      <td>...</td>\n",
              "      <td>...</td>\n",
              "      <td>...</td>\n",
              "      <td>...</td>\n",
              "      <td>...</td>\n",
              "      <td>...</td>\n",
              "      <td>...</td>\n",
              "      <td>...</td>\n",
              "      <td>...</td>\n",
              "      <td>...</td>\n",
              "      <td>...</td>\n",
              "      <td>...</td>\n",
              "      <td>...</td>\n",
              "      <td>...</td>\n",
              "    </tr>\n",
              "    <tr>\n",
              "      <th>39995</th>\n",
              "      <td>johnlloydtaylor</td>\n",
              "      <td>0</td>\n",
              "      <td>0</td>\n",
              "      <td>0</td>\n",
              "      <td>0</td>\n",
              "      <td>0</td>\n",
              "      <td>0</td>\n",
              "      <td>0</td>\n",
              "      <td>0</td>\n",
              "      <td>1</td>\n",
              "      <td>0</td>\n",
              "      <td>0</td>\n",
              "      <td>0</td>\n",
              "      <td>0</td>\n",
              "    </tr>\n",
              "    <tr>\n",
              "      <th>39996</th>\n",
              "      <td>happy mother day love</td>\n",
              "      <td>0</td>\n",
              "      <td>0</td>\n",
              "      <td>0</td>\n",
              "      <td>0</td>\n",
              "      <td>0</td>\n",
              "      <td>0</td>\n",
              "      <td>0</td>\n",
              "      <td>1</td>\n",
              "      <td>0</td>\n",
              "      <td>0</td>\n",
              "      <td>0</td>\n",
              "      <td>0</td>\n",
              "      <td>0</td>\n",
              "    </tr>\n",
              "    <tr>\n",
              "      <th>39997</th>\n",
              "      <td>happy mother day mommy woman long youre momma ...</td>\n",
              "      <td>0</td>\n",
              "      <td>0</td>\n",
              "      <td>0</td>\n",
              "      <td>0</td>\n",
              "      <td>0</td>\n",
              "      <td>0</td>\n",
              "      <td>0</td>\n",
              "      <td>1</td>\n",
              "      <td>0</td>\n",
              "      <td>0</td>\n",
              "      <td>0</td>\n",
              "      <td>0</td>\n",
              "      <td>0</td>\n",
              "    </tr>\n",
              "    <tr>\n",
              "      <th>39998</th>\n",
              "      <td>niariley wassup beautiful follow peep new hit ...</td>\n",
              "      <td>0</td>\n",
              "      <td>0</td>\n",
              "      <td>0</td>\n",
              "      <td>0</td>\n",
              "      <td>0</td>\n",
              "      <td>1</td>\n",
              "      <td>0</td>\n",
              "      <td>0</td>\n",
              "      <td>0</td>\n",
              "      <td>0</td>\n",
              "      <td>0</td>\n",
              "      <td>0</td>\n",
              "      <td>0</td>\n",
              "    </tr>\n",
              "    <tr>\n",
              "      <th>39999</th>\n",
              "      <td>mopedronin bullet train tokyo gf visiting japa...</td>\n",
              "      <td>0</td>\n",
              "      <td>0</td>\n",
              "      <td>0</td>\n",
              "      <td>0</td>\n",
              "      <td>0</td>\n",
              "      <td>0</td>\n",
              "      <td>0</td>\n",
              "      <td>1</td>\n",
              "      <td>0</td>\n",
              "      <td>0</td>\n",
              "      <td>0</td>\n",
              "      <td>0</td>\n",
              "      <td>0</td>\n",
              "    </tr>\n",
              "  </tbody>\n",
              "</table>\n",
              "<p>40000 rows × 14 columns</p>\n",
              "</div>"
            ],
            "text/plain": [
              "                                                 content  ...  worry\n",
              "0      tiffanylue know listenin bad habit earlier sta...  ...      0\n",
              "1                   layin bed headache ughhhhwaitin call  ...      0\n",
              "2                          funeral ceremonygloomy friday  ...      0\n",
              "3                                  want hang friend soon  ...      0\n",
              "4             dannycastillo trade someone houston ticket  ...      0\n",
              "...                                                  ...  ...    ...\n",
              "39995                                    johnlloydtaylor  ...      0\n",
              "39996                              happy mother day love  ...      0\n",
              "39997  happy mother day mommy woman long youre momma ...  ...      0\n",
              "39998  niariley wassup beautiful follow peep new hit ...  ...      0\n",
              "39999  mopedronin bullet train tokyo gf visiting japa...  ...      0\n",
              "\n",
              "[40000 rows x 14 columns]"
            ]
          },
          "metadata": {},
          "execution_count": 72
        }
      ]
    },
    {
      "cell_type": "code",
      "metadata": {
        "id": "DD9Eu7H2AvdT"
      },
      "source": [
        "tweet = df_text_sentiment['content'].values\n",
        "emotions = df_text_sentiment[['anger','boredom','empty','enthusiasm','fun','happiness','hate','love','neutral','relief','sadness','surprise','worry']].values"
      ],
      "execution_count": 73,
      "outputs": []
    },
    {
      "cell_type": "code",
      "metadata": {
        "colab": {
          "base_uri": "https://localhost:8080/"
        },
        "id": "p76mw0odB57_",
        "outputId": "e9c3eea0-4e33-48f9-e3aa-41f26c2bfa98"
      },
      "source": [
        "tweet"
      ],
      "execution_count": 74,
      "outputs": [
        {
          "output_type": "execute_result",
          "data": {
            "text/plain": [
              "array(['tiffanylue know listenin bad habit earlier started freakin part',\n",
              "       'layin bed headache ughhhhwaitin call',\n",
              "       'funeral ceremonygloomy friday', ...,\n",
              "       'happy mother day mommy woman long youre momma someone day',\n",
              "       'niariley wassup beautiful follow peep new hit single wwwmyspacecomipsohot def video',\n",
              "       'mopedronin bullet train tokyo gf visiting japan since thursday vacationsightseeing gaijin godzilla'],\n",
              "      dtype=object)"
            ]
          },
          "metadata": {},
          "execution_count": 74
        }
      ]
    },
    {
      "cell_type": "code",
      "metadata": {
        "colab": {
          "base_uri": "https://localhost:8080/"
        },
        "id": "hvo3SvBOCE8o",
        "outputId": "13025ab2-db1e-474e-a29e-41ed2d1514b6"
      },
      "source": [
        "emotions"
      ],
      "execution_count": 75,
      "outputs": [
        {
          "output_type": "execute_result",
          "data": {
            "text/plain": [
              "array([[0, 0, 1, ..., 0, 0, 0],\n",
              "       [0, 0, 0, ..., 1, 0, 0],\n",
              "       [0, 0, 0, ..., 1, 0, 0],\n",
              "       ...,\n",
              "       [0, 0, 0, ..., 0, 0, 0],\n",
              "       [0, 0, 0, ..., 0, 0, 0],\n",
              "       [0, 0, 0, ..., 0, 0, 0]], dtype=uint8)"
            ]
          },
          "metadata": {},
          "execution_count": 75
        }
      ]
    },
    {
      "cell_type": "code",
      "metadata": {
        "id": "ppHrMBGUE7FK"
      },
      "source": [
        "# Split data dan tokenizer\n",
        "tweet_train, tweet_test, emotions_train, emotions_test = train_test_split(tweet, emotions, test_size=0.2, shuffle=True)\n",
        "\n",
        "tokenizer = Tokenizer(num_words=5000, filters='!\"#$&()*+,-./:;<=>@[\\]^_`{|}~')\n",
        "tokenizer.fit_on_texts(tweet_train)\n",
        "tokenizer.fit_on_texts(tweet_test)\n",
        "\n",
        "sekuens_train = tokenizer.texts_to_sequences(tweet_train)\n",
        "sekuens_test = tokenizer.texts_to_sequences(tweet_test)\n",
        "\n",
        "padded_train = pad_sequences(sekuens_train)\n",
        "padded_test = pad_sequences(sekuens_test)"
      ],
      "execution_count": 76,
      "outputs": []
    },
    {
      "cell_type": "code",
      "metadata": {
        "colab": {
          "base_uri": "https://localhost:8080/"
        },
        "id": "9sV6cRCAHhWN",
        "outputId": "017e3ca7-4812-43c3-e04b-431e73591895"
      },
      "source": [
        "# Membuat model\n",
        "model = tf.keras.Sequential([\n",
        "    tf.keras.layers.Embedding(input_dim=80000, output_dim=16),\n",
        "    tf.keras.layers.LSTM(64),\n",
        "    tf.keras.layers.Dense(128, activation='relu'),\n",
        "    tf.keras.layers.Dense(64, activation='relu'),\n",
        "    tf.keras.layers.Dense(13, activation='softmax')\n",
        "])\n",
        "model.compile(loss='categorical_crossentropy',optimizer='adam',metrics=['accuracy'])\n",
        "model.summary()"
      ],
      "execution_count": 77,
      "outputs": [
        {
          "output_type": "stream",
          "text": [
            "Model: \"sequential_3\"\n",
            "_________________________________________________________________\n",
            "Layer (type)                 Output Shape              Param #   \n",
            "=================================================================\n",
            "embedding_3 (Embedding)      (None, None, 16)          1280000   \n",
            "_________________________________________________________________\n",
            "lstm_3 (LSTM)                (None, 64)                20736     \n",
            "_________________________________________________________________\n",
            "dense_9 (Dense)              (None, 128)               8320      \n",
            "_________________________________________________________________\n",
            "dense_10 (Dense)             (None, 64)                8256      \n",
            "_________________________________________________________________\n",
            "dense_11 (Dense)             (None, 13)                845       \n",
            "=================================================================\n",
            "Total params: 1,318,157\n",
            "Trainable params: 1,318,157\n",
            "Non-trainable params: 0\n",
            "_________________________________________________________________\n"
          ],
          "name": "stdout"
        }
      ]
    },
    {
      "cell_type": "code",
      "metadata": {
        "id": "IYGxkWzeJIhU"
      },
      "source": [
        "# Membuat callback\n",
        "class Callback(tf.keras.callbacks.Callback):\n",
        "  def on_epoch_end(self,epoch,logs={}):\n",
        "    if(logs.get('accuracy')>0.9):\n",
        "      self.model.stop_training = True\n",
        "      print('Akurasi training set telah berada di atas 90%')\n",
        "callbacks = Callback()"
      ],
      "execution_count": 78,
      "outputs": []
    },
    {
      "cell_type": "code",
      "metadata": {
        "colab": {
          "base_uri": "https://localhost:8080/"
        },
        "id": "w-qUh1_FKeIZ",
        "outputId": "08238560-4989-4910-b803-f49d4e4ce820"
      },
      "source": [
        "history = model.fit(padded_train, emotions_train,\n",
        "                    epochs=100, batch_size=32, \n",
        "                    validation_split=0.2,\n",
        "                    callbacks=[callbacks])"
      ],
      "execution_count": 79,
      "outputs": [
        {
          "output_type": "stream",
          "text": [
            "Epoch 1/100\n",
            "800/800 [==============================] - 22s 26ms/step - loss: 2.1041 - accuracy: 0.2521 - val_loss: 1.9915 - val_accuracy: 0.3170\n",
            "Epoch 2/100\n",
            "800/800 [==============================] - 20s 25ms/step - loss: 1.9076 - accuracy: 0.3502 - val_loss: 1.9383 - val_accuracy: 0.3450\n",
            "Epoch 3/100\n",
            "800/800 [==============================] - 20s 25ms/step - loss: 1.8052 - accuracy: 0.3926 - val_loss: 1.9516 - val_accuracy: 0.3417\n",
            "Epoch 4/100\n",
            "800/800 [==============================] - 20s 25ms/step - loss: 1.7262 - accuracy: 0.4211 - val_loss: 1.9988 - val_accuracy: 0.3338\n",
            "Epoch 5/100\n",
            "800/800 [==============================] - 20s 25ms/step - loss: 1.6632 - accuracy: 0.4464 - val_loss: 2.0516 - val_accuracy: 0.3294\n",
            "Epoch 6/100\n",
            "800/800 [==============================] - 20s 25ms/step - loss: 1.6087 - accuracy: 0.4621 - val_loss: 2.0789 - val_accuracy: 0.3253\n",
            "Epoch 7/100\n",
            "800/800 [==============================] - 20s 25ms/step - loss: 1.5493 - accuracy: 0.4815 - val_loss: 2.1811 - val_accuracy: 0.3137\n",
            "Epoch 8/100\n",
            "800/800 [==============================] - 20s 25ms/step - loss: 1.4818 - accuracy: 0.5046 - val_loss: 2.2316 - val_accuracy: 0.3119\n",
            "Epoch 9/100\n",
            "800/800 [==============================] - 20s 25ms/step - loss: 1.4126 - accuracy: 0.5286 - val_loss: 2.3346 - val_accuracy: 0.3017\n",
            "Epoch 10/100\n",
            "800/800 [==============================] - 20s 25ms/step - loss: 1.3446 - accuracy: 0.5477 - val_loss: 2.4649 - val_accuracy: 0.3008\n",
            "Epoch 11/100\n",
            "800/800 [==============================] - 20s 25ms/step - loss: 1.2752 - accuracy: 0.5734 - val_loss: 2.5992 - val_accuracy: 0.2905\n",
            "Epoch 12/100\n",
            "800/800 [==============================] - 20s 25ms/step - loss: 1.2134 - accuracy: 0.5929 - val_loss: 2.7635 - val_accuracy: 0.2816\n",
            "Epoch 13/100\n",
            "800/800 [==============================] - 20s 25ms/step - loss: 1.1477 - accuracy: 0.6116 - val_loss: 3.0374 - val_accuracy: 0.2902\n",
            "Epoch 14/100\n",
            "800/800 [==============================] - 20s 25ms/step - loss: 1.0903 - accuracy: 0.6291 - val_loss: 3.2872 - val_accuracy: 0.2778\n",
            "Epoch 15/100\n",
            "800/800 [==============================] - 20s 25ms/step - loss: 1.0372 - accuracy: 0.6463 - val_loss: 3.4529 - val_accuracy: 0.2786\n",
            "Epoch 16/100\n",
            "800/800 [==============================] - 20s 25ms/step - loss: 0.9844 - accuracy: 0.6654 - val_loss: 3.7566 - val_accuracy: 0.2730\n",
            "Epoch 17/100\n",
            "800/800 [==============================] - 20s 25ms/step - loss: 0.9449 - accuracy: 0.6776 - val_loss: 4.0574 - val_accuracy: 0.2683\n",
            "Epoch 18/100\n",
            "800/800 [==============================] - 20s 25ms/step - loss: 0.9049 - accuracy: 0.6919 - val_loss: 4.0981 - val_accuracy: 0.2672\n",
            "Epoch 19/100\n",
            "800/800 [==============================] - 20s 25ms/step - loss: 0.8677 - accuracy: 0.7027 - val_loss: 4.4303 - val_accuracy: 0.2641\n",
            "Epoch 20/100\n",
            "800/800 [==============================] - 20s 25ms/step - loss: 0.8287 - accuracy: 0.7162 - val_loss: 4.7566 - val_accuracy: 0.2625\n",
            "Epoch 21/100\n",
            "800/800 [==============================] - 20s 25ms/step - loss: 0.8026 - accuracy: 0.7232 - val_loss: 4.9769 - val_accuracy: 0.2630\n",
            "Epoch 22/100\n",
            "800/800 [==============================] - 20s 25ms/step - loss: 0.7778 - accuracy: 0.7343 - val_loss: 5.2024 - val_accuracy: 0.2619\n",
            "Epoch 23/100\n",
            "800/800 [==============================] - 20s 25ms/step - loss: 0.7459 - accuracy: 0.7417 - val_loss: 5.5700 - val_accuracy: 0.2659\n",
            "Epoch 24/100\n",
            "800/800 [==============================] - 20s 25ms/step - loss: 0.7164 - accuracy: 0.7548 - val_loss: 5.9273 - val_accuracy: 0.2655\n",
            "Epoch 25/100\n",
            "800/800 [==============================] - 20s 25ms/step - loss: 0.6970 - accuracy: 0.7593 - val_loss: 6.0089 - val_accuracy: 0.2552\n",
            "Epoch 26/100\n",
            "800/800 [==============================] - 20s 25ms/step - loss: 0.6720 - accuracy: 0.7666 - val_loss: 6.4408 - val_accuracy: 0.2566\n",
            "Epoch 27/100\n",
            "800/800 [==============================] - 20s 25ms/step - loss: 0.6513 - accuracy: 0.7736 - val_loss: 6.6105 - val_accuracy: 0.2583\n",
            "Epoch 28/100\n",
            "800/800 [==============================] - 20s 25ms/step - loss: 0.6245 - accuracy: 0.7861 - val_loss: 6.9138 - val_accuracy: 0.2545\n",
            "Epoch 29/100\n",
            "800/800 [==============================] - 20s 25ms/step - loss: 0.6079 - accuracy: 0.7906 - val_loss: 7.0151 - val_accuracy: 0.2564\n",
            "Epoch 30/100\n",
            "800/800 [==============================] - 20s 25ms/step - loss: 0.5967 - accuracy: 0.7967 - val_loss: 7.2240 - val_accuracy: 0.2525\n",
            "Epoch 31/100\n",
            "800/800 [==============================] - 20s 25ms/step - loss: 0.5820 - accuracy: 0.8030 - val_loss: 7.4622 - val_accuracy: 0.2505\n",
            "Epoch 32/100\n",
            "800/800 [==============================] - 20s 25ms/step - loss: 0.5550 - accuracy: 0.8111 - val_loss: 7.7113 - val_accuracy: 0.2480\n",
            "Epoch 33/100\n",
            "800/800 [==============================] - 20s 25ms/step - loss: 0.5366 - accuracy: 0.8165 - val_loss: 7.9403 - val_accuracy: 0.2456\n",
            "Epoch 34/100\n",
            "800/800 [==============================] - 20s 25ms/step - loss: 0.5223 - accuracy: 0.8203 - val_loss: 8.2431 - val_accuracy: 0.2558\n",
            "Epoch 35/100\n",
            "800/800 [==============================] - 20s 25ms/step - loss: 0.5211 - accuracy: 0.8210 - val_loss: 8.2588 - val_accuracy: 0.2523\n",
            "Epoch 36/100\n",
            "800/800 [==============================] - 20s 25ms/step - loss: 0.5008 - accuracy: 0.8298 - val_loss: 8.6896 - val_accuracy: 0.2564\n",
            "Epoch 37/100\n",
            "800/800 [==============================] - 20s 25ms/step - loss: 0.4887 - accuracy: 0.8353 - val_loss: 8.5319 - val_accuracy: 0.2575\n",
            "Epoch 38/100\n",
            "800/800 [==============================] - 20s 25ms/step - loss: 0.4705 - accuracy: 0.8391 - val_loss: 8.8265 - val_accuracy: 0.2480\n",
            "Epoch 39/100\n",
            "800/800 [==============================] - 20s 25ms/step - loss: 0.4554 - accuracy: 0.8449 - val_loss: 8.9874 - val_accuracy: 0.2438\n",
            "Epoch 40/100\n",
            "800/800 [==============================] - 20s 25ms/step - loss: 0.4528 - accuracy: 0.8458 - val_loss: 9.4230 - val_accuracy: 0.2530\n",
            "Epoch 41/100\n",
            "800/800 [==============================] - 20s 25ms/step - loss: 0.4393 - accuracy: 0.8493 - val_loss: 9.4170 - val_accuracy: 0.2523\n",
            "Epoch 42/100\n",
            "800/800 [==============================] - 20s 25ms/step - loss: 0.4275 - accuracy: 0.8552 - val_loss: 10.1306 - val_accuracy: 0.2486\n",
            "Epoch 43/100\n",
            "800/800 [==============================] - 20s 25ms/step - loss: 0.4248 - accuracy: 0.8558 - val_loss: 10.0327 - val_accuracy: 0.2587\n",
            "Epoch 44/100\n",
            "800/800 [==============================] - 20s 25ms/step - loss: 0.4052 - accuracy: 0.8597 - val_loss: 10.3001 - val_accuracy: 0.2498\n",
            "Epoch 45/100\n",
            "800/800 [==============================] - 20s 25ms/step - loss: 0.3934 - accuracy: 0.8673 - val_loss: 10.5702 - val_accuracy: 0.2511\n",
            "Epoch 46/100\n",
            "800/800 [==============================] - 20s 25ms/step - loss: 0.3898 - accuracy: 0.8703 - val_loss: 10.7832 - val_accuracy: 0.2473\n",
            "Epoch 47/100\n",
            "800/800 [==============================] - 20s 25ms/step - loss: 0.3768 - accuracy: 0.8728 - val_loss: 11.1079 - val_accuracy: 0.2497\n",
            "Epoch 48/100\n",
            "800/800 [==============================] - 20s 25ms/step - loss: 0.3707 - accuracy: 0.8750 - val_loss: 10.7945 - val_accuracy: 0.2483\n",
            "Epoch 49/100\n",
            "800/800 [==============================] - 20s 25ms/step - loss: 0.3743 - accuracy: 0.8731 - val_loss: 11.0454 - val_accuracy: 0.2536\n",
            "Epoch 50/100\n",
            "800/800 [==============================] - 20s 25ms/step - loss: 0.3578 - accuracy: 0.8773 - val_loss: 11.1798 - val_accuracy: 0.2469\n",
            "Epoch 51/100\n",
            "800/800 [==============================] - 20s 25ms/step - loss: 0.3425 - accuracy: 0.8839 - val_loss: 11.5891 - val_accuracy: 0.2519\n",
            "Epoch 52/100\n",
            "800/800 [==============================] - 20s 25ms/step - loss: 0.3419 - accuracy: 0.8850 - val_loss: 11.4803 - val_accuracy: 0.2477\n",
            "Epoch 53/100\n",
            "800/800 [==============================] - 20s 25ms/step - loss: 0.3412 - accuracy: 0.8872 - val_loss: 11.8536 - val_accuracy: 0.2453\n",
            "Epoch 54/100\n",
            "800/800 [==============================] - 20s 25ms/step - loss: 0.3255 - accuracy: 0.8896 - val_loss: 12.0527 - val_accuracy: 0.2445\n",
            "Epoch 55/100\n",
            "800/800 [==============================] - 20s 25ms/step - loss: 0.3224 - accuracy: 0.8937 - val_loss: 12.3565 - val_accuracy: 0.2420\n",
            "Epoch 56/100\n",
            "800/800 [==============================] - 20s 25ms/step - loss: 0.3095 - accuracy: 0.8961 - val_loss: 12.5302 - val_accuracy: 0.2438\n",
            "Epoch 57/100\n",
            "800/800 [==============================] - 20s 25ms/step - loss: 0.3061 - accuracy: 0.8986 - val_loss: 12.8159 - val_accuracy: 0.2466\n",
            "Epoch 58/100\n",
            "800/800 [==============================] - 20s 25ms/step - loss: 0.3055 - accuracy: 0.8985 - val_loss: 12.4085 - val_accuracy: 0.2416\n",
            "Epoch 59/100\n",
            "800/800 [==============================] - 20s 25ms/step - loss: 0.3071 - accuracy: 0.8975 - val_loss: 12.7572 - val_accuracy: 0.2500\n",
            "Epoch 60/100\n",
            "800/800 [==============================] - 20s 25ms/step - loss: 0.2978 - accuracy: 0.9013 - val_loss: 12.6753 - val_accuracy: 0.2400\n",
            "Akurasi training set telah berada di atas 90%\n"
          ],
          "name": "stdout"
        }
      ]
    },
    {
      "cell_type": "code",
      "metadata": {
        "colab": {
          "base_uri": "https://localhost:8080/",
          "height": 573
        },
        "id": "mDVJShxnhjDT",
        "outputId": "144402cd-57a4-418e-b740-41f9352126a2"
      },
      "source": [
        "# Membuat plot loss\n",
        "plt.plot(history.history['loss'])\n",
        "plt.plot(history.history['val_loss'])\n",
        "plt.title('Plot Loss')\n",
        "plt.ylabel('loss')\n",
        "plt.xlabel('epoch')\n",
        "plt.legend(['train', 'test'], loc='upper left')\n",
        "plt.show()\n",
        "\n",
        "# Membuat plot accuracy\n",
        "plt.plot(history.history['accuracy'])\n",
        "plt.plot(history.history['val_accuracy'])\n",
        "plt.title('Plot Accuracy')\n",
        "plt.ylabel('accuracy')\n",
        "plt.xlabel('epoch')\n",
        "plt.legend(['train', 'test'], loc='upper left')\n",
        "plt.show()"
      ],
      "execution_count": 80,
      "outputs": [
        {
          "output_type": "display_data",
          "data": {
            "image/png": "[encoded data removed]",
            "text/plain": [
              "<Figure size 432x288 with 1 Axes>"
            ]
          },
          "metadata": {
            "needs_background": "light"
          }
        },
        {
          "output_type": "display_data",
          "data": {
            "image/png": "[encoded data removed]",
            "text/plain": [
              "<Figure size 432x288 with 1 Axes>"
            ]
          },
          "metadata": {
            "needs_background": "light"
          }
        }
      ]
    }
  ]
}